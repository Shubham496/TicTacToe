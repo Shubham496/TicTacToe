{
 "cells": [
  {
   "cell_type": "markdown",
   "id": "234a8d02-1403-49cf-ad08-1f6f9429f391",
   "metadata": {},
   "source": [
    "# TicTacToe"
   ]
  },
  {
   "cell_type": "markdown",
   "id": "0d6c26b4-2c7e-4235-a1c2-9153c08b743c",
   "metadata": {},
   "source": [
    "## plan for the game\n",
    "\n",
    "### Game funciton \n",
    "- take name for player 1 and 2\n",
    "- who will go first\n",
    "- chose marker\n",
    "- display\n",
    "- chose position\n",
    "- check position\n",
    "- place marker on display\n",
    "- check player won\n",
    "- full board\n",
    "- change marker\n",
    "- if player won , increase score"
   ]
  },
  {
   "cell_type": "markdown",
   "id": "5641eb09-633a-4bef-831f-041026ab4c63",
   "metadata": {},
   "source": [
    "## lets start the game"
   ]
  },
  {
   "cell_type": "code",
   "execution_count": 25,
   "id": "bbce3188-8527-475e-906c-a7bf87dcdd80",
   "metadata": {},
   "outputs": [],
   "source": [
    "li = [\"X\"]*10"
   ]
  },
  {
   "cell_type": "code",
   "execution_count": 27,
   "id": "ec6f511c-9dfd-4132-86dd-6a856fb1e59f",
   "metadata": {},
   "outputs": [],
   "source": [
    "li[5] = \"O\""
   ]
  },
  {
   "cell_type": "code",
   "execution_count": 1,
   "id": "9c1f06b6-7123-492d-907a-d4474cebb35d",
   "metadata": {},
   "outputs": [],
   "source": [
    "def display(li):\n",
    "    print(li[7], \"|\", li[8], \"|\", li[9])\n",
    "    print(\"-\"*10)\n",
    "    print(li[4], \"|\", li[5], \"|\", li[6])\n",
    "    print(\"-\"*10)\n",
    "    print(li[1], \"|\", li[2], \"|\", li[3])"
   ]
  },
  {
   "cell_type": "code",
   "execution_count": 3,
   "id": "0f07a215-4448-46f8-a3c9-a2541d1ab79a",
   "metadata": {},
   "outputs": [],
   "source": [
    "def choose_position(li):\n",
    "    display(li)\n",
    "    position = None\n",
    "    while not position:\n",
    "        position  =  input('enter a number between 1-9')\n",
    "        if not position.isdigit():\n",
    "            position = None\n",
    "        elif not int(position) in range(1,10):\n",
    "            position = None\n",
    "        elif not check_position(li, int(position)):\n",
    "            position = None\n",
    "\n",
    "    return int(position)"
   ]
  },
  {
   "cell_type": "code",
   "execution_count": 5,
   "id": "0d4d57ce-6057-4caf-b8f3-f1a9cc9a11ae",
   "metadata": {},
   "outputs": [],
   "source": [
    "def check_position(li, position):\n",
    "    if li[position] == \" \":\n",
    "        return True\n",
    "    return False"
   ]
  },
  {
   "cell_type": "code",
   "execution_count": 35,
   "id": "01d9ed09-d615-419d-8fac-87c5f635a878",
   "metadata": {},
   "outputs": [],
   "source": [
    "li = [\" \"]*10"
   ]
  },
  {
   "cell_type": "code",
   "execution_count": 37,
   "id": "19370d58-650c-43df-af70-3d82f9450bb6",
   "metadata": {},
   "outputs": [],
   "source": [
    "li[5] = \"O\""
   ]
  },
  {
   "cell_type": "code",
   "execution_count": 39,
   "id": "376e7d0f-430d-4691-9d74-526d2456f022",
   "metadata": {},
   "outputs": [
    {
     "name": "stdout",
     "output_type": "stream",
     "text": [
      "  |   |  \n",
      "----------\n",
      "  | O |  \n",
      "----------\n",
      "  |   |  \n"
     ]
    },
    {
     "name": "stdin",
     "output_type": "stream",
     "text": [
      "enter a number between 1-9 5\n",
      "enter a number between 1-9 1\n"
     ]
    },
    {
     "data": {
      "text/plain": [
       "1"
      ]
     },
     "execution_count": 39,
     "metadata": {},
     "output_type": "execute_result"
    }
   ],
   "source": [
    "choose_position(li)"
   ]
  },
  {
   "cell_type": "code",
   "execution_count": 7,
   "id": "aaa66b3b-7682-4dcf-a87e-9b6183366879",
   "metadata": {},
   "outputs": [],
   "source": [
    "def put_marker(li, marker):\n",
    "    position = choose_position(li)\n",
    "    li[position] = marker\n",
    "    display(li)"
   ]
  },
  {
   "cell_type": "code",
   "execution_count": 43,
   "id": "bb15e60c-9d20-4a4e-a0ba-094ec8b3a1d4",
   "metadata": {},
   "outputs": [
    {
     "name": "stdout",
     "output_type": "stream",
     "text": [
      "  |   |  \n",
      "----------\n",
      "  | O |  \n",
      "----------\n",
      "  |   |  \n"
     ]
    },
    {
     "name": "stdin",
     "output_type": "stream",
     "text": [
      "enter a number between 1-9 3\n"
     ]
    },
    {
     "name": "stdout",
     "output_type": "stream",
     "text": [
      "  |   |  \n",
      "----------\n",
      "  | O |  \n",
      "----------\n",
      "  |   | X\n"
     ]
    }
   ],
   "source": [
    "put_marker(li, 'X')"
   ]
  },
  {
   "cell_type": "code",
   "execution_count": 81,
   "id": "e59a807f-8564-460e-b9db-38b5aa58bada",
   "metadata": {},
   "outputs": [
    {
     "data": {
      "text/plain": [
       "False"
      ]
     },
     "execution_count": 81,
     "metadata": {},
     "output_type": "execute_result"
    }
   ],
   "source": [
    "li[7] == li[8] == li[9] != \" \""
   ]
  },
  {
   "cell_type": "code",
   "execution_count": 9,
   "id": "a44127da-05e0-4cae-a362-eb4e1353a778",
   "metadata": {},
   "outputs": [],
   "source": [
    "def check_win(li):\n",
    "    for i in range(3,0,-1):\n",
    "        if (li[i] == li[i+3] == li[i+6] != ' ') or (li[i*3] == li[i*3-1] == li[i*3-2] != \" \"):\n",
    "            return True\n",
    "\n",
    "    if li[7] == li[5] == li[3] != \" \":\n",
    "        return True\n",
    "\n",
    "    if li[9] == li[5] == li[1]  != \" \":\n",
    "        return True\n",
    "\n",
    "    return False"
   ]
  },
  {
   "cell_type": "code",
   "execution_count": 49,
   "id": "d0464f76-e707-455c-bf7f-1240a4979f3d",
   "metadata": {},
   "outputs": [
    {
     "name": "stdout",
     "output_type": "stream",
     "text": [
      "  |   |  \n",
      "----------\n",
      "  | O |  \n",
      "----------\n",
      "  |   | X\n"
     ]
    },
    {
     "name": "stdin",
     "output_type": "stream",
     "text": [
      "enter a number between 1-9 7\n"
     ]
    },
    {
     "name": "stdout",
     "output_type": "stream",
     "text": [
      "X |   |  \n",
      "----------\n",
      "  | O |  \n",
      "----------\n",
      "  |   | X\n"
     ]
    }
   ],
   "source": [
    "put_marker(li, \"X\")"
   ]
  },
  {
   "cell_type": "code",
   "execution_count": 83,
   "id": "ed357fa2-bfcc-4c54-a874-51416b80334d",
   "metadata": {},
   "outputs": [],
   "source": [
    "def full_board(li):\n",
    "    for i in range(1,10):\n",
    "        if li[i] == \" \":\n",
    "            return False\n",
    "    return True"
   ]
  },
  {
   "cell_type": "code",
   "execution_count": 15,
   "id": "1c15e139-4d22-4d42-88c7-6809607c21ce",
   "metadata": {},
   "outputs": [],
   "source": [
    "def switch_marker(marker):\n",
    "    if marker == \"X\":\n",
    "        return \"O\"\n",
    "    return \"X\""
   ]
  },
  {
   "cell_type": "code",
   "execution_count": 61,
   "id": "31c68467-f1e9-4d3f-ab7f-213bc2a3196f",
   "metadata": {},
   "outputs": [],
   "source": [
    "def switch_player(current, player1, player2):\n",
    "    if current == player1:\n",
    "        return player2\n",
    "    elif current == player2:\n",
    "        return player1"
   ]
  },
  {
   "cell_type": "code",
   "execution_count": 55,
   "id": "767bbf36-6ad2-48cb-a301-48d1639484e8",
   "metadata": {},
   "outputs": [
    {
     "data": {
      "text/plain": [
       "'O'"
      ]
     },
     "execution_count": 55,
     "metadata": {},
     "output_type": "execute_result"
    }
   ],
   "source": [
    "switch_marker(\"X\")"
   ]
  },
  {
   "cell_type": "code",
   "execution_count": 17,
   "id": "953fdc67-e216-49ae-9e77-0044836fd9c8",
   "metadata": {},
   "outputs": [],
   "source": [
    "def take_name():\n",
    "    player = None\n",
    "    while not player:\n",
    "        player = input('enter your name')\n",
    "        if not player.isalpha():\n",
    "            player = None\n",
    "\n",
    "    return player"
   ]
  },
  {
   "cell_type": "code",
   "execution_count": 21,
   "id": "35398bda-2c68-4354-8008-e3aa1f7dd8d0",
   "metadata": {},
   "outputs": [],
   "source": [
    "import random"
   ]
  },
  {
   "cell_type": "code",
   "execution_count": 35,
   "id": "30613571-2f00-42ab-b0ae-8c1057d867e8",
   "metadata": {},
   "outputs": [
    {
     "data": {
      "text/plain": [
       "7"
      ]
     },
     "execution_count": 35,
     "metadata": {},
     "output_type": "execute_result"
    }
   ],
   "source": [
    "random.randint(3,10)"
   ]
  },
  {
   "cell_type": "code",
   "execution_count": 79,
   "id": "e857f8f2-520d-4915-be0b-36deee416833",
   "metadata": {},
   "outputs": [],
   "source": [
    "def chose_player(player1, player2):\n",
    "    if random.randint(0,1):\n",
    "        return player1\n",
    "    else:\n",
    "        return player2"
   ]
  },
  {
   "cell_type": "code",
   "execution_count": 39,
   "id": "5d9a25e2-f54b-4749-ab11-bedeb30ea839",
   "metadata": {},
   "outputs": [
    {
     "data": {
      "text/plain": [
       "'abhi'"
      ]
     },
     "execution_count": 39,
     "metadata": {},
     "output_type": "execute_result"
    }
   ],
   "source": [
    "chose_player('shubham', 'abhi')"
   ]
  },
  {
   "cell_type": "code",
   "execution_count": 41,
   "id": "1cd9f4fd-8c0a-478e-a426-f26126184e4a",
   "metadata": {},
   "outputs": [],
   "source": [
    "def choose_marker():\n",
    "    marker = None\n",
    "    while not marker:\n",
    "        marker = input('enter X or O')\n",
    "        if marker.strip().upper() not in (\"X\", \"O\"):\n",
    "            marker = None\n",
    "\n",
    "    return marker.strip().upper()"
   ]
  },
  {
   "cell_type": "code",
   "execution_count": 43,
   "id": "22d53cae-6007-4b1a-badc-dadf5d568174",
   "metadata": {},
   "outputs": [
    {
     "name": "stdin",
     "output_type": "stream",
     "text": [
      "enter X or O o\n"
     ]
    },
    {
     "data": {
      "text/plain": [
       "'O'"
      ]
     },
     "execution_count": 43,
     "metadata": {},
     "output_type": "execute_result"
    }
   ],
   "source": [
    "choose_marker()"
   ]
  },
  {
   "cell_type": "code",
   "execution_count": 47,
   "id": "338e6025-5537-402a-8dbf-f834ef620403",
   "metadata": {},
   "outputs": [],
   "source": [
    "from IPython.display import clear_output"
   ]
  },
  {
   "cell_type": "code",
   "execution_count": 85,
   "id": "25ece49b-167c-4d45-b440-7837e8cc8d52",
   "metadata": {},
   "outputs": [
    {
     "name": "stdout",
     "output_type": "stream",
     "text": [
      "abhi won\n",
      "X |   |  \n",
      "----------\n",
      "O | X |  \n",
      "----------\n",
      "O |   | X\n"
     ]
    }
   ],
   "source": [
    "\n",
    "Game = True\n",
    "first_game = True\n",
    "repeat = False\n",
    "while Game:\n",
    "    if first_game:\n",
    "        li = [\" \"]*10\n",
    "        print('welcome players')\n",
    "        print(\"player1\")\n",
    "        player1 = take_name()\n",
    "        clear_output()\n",
    "        print('player2')\n",
    "        player2 = take_name()\n",
    "        clear_output()\n",
    "        print('welcome', player1, player2)\n",
    "        first_game =False\n",
    "\n",
    "    if not repeat: \n",
    "        li = [\" \"]*10\n",
    "        cur_player = chose_player(player1, player2)\n",
    "        print(cur_player, \"will play first, choose marker\")\n",
    "        marker = choose_marker()\n",
    "        clear_output()\n",
    "        repeat = True\n",
    "    #display(li)\n",
    "    put_marker(li, marker)\n",
    "    clear_output()\n",
    "    if check_win(li):\n",
    "        print(cur_player, \"won\")\n",
    "        display(li)\n",
    "        break\n",
    "    if full_board(li):\n",
    "        print('match is draw')\n",
    "        display(li)\n",
    "        break   \n",
    "    marker= switch_marker(marker)\n",
    "    cur_player = switch_player(cur_player, player1, player2)"
   ]
  },
  {
   "cell_type": "code",
   "execution_count": null,
   "id": "a4cf1a87-7f25-43b1-88be-b968d679e4ac",
   "metadata": {},
   "outputs": [],
   "source": []
  }
 ],
 "metadata": {
  "kernelspec": {
   "display_name": "Python [conda env:base] *",
   "language": "python",
   "name": "conda-base-py"
  },
  "language_info": {
   "codemirror_mode": {
    "name": "ipython",
    "version": 3
   },
   "file_extension": ".py",
   "mimetype": "text/x-python",
   "name": "python",
   "nbconvert_exporter": "python",
   "pygments_lexer": "ipython3",
   "version": "3.12.7"
  }
 },
 "nbformat": 4,
 "nbformat_minor": 5
}
